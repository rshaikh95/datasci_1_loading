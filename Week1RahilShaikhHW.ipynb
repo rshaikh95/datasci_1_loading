{
  "nbformat": 4,
  "nbformat_minor": 0,
  "metadata": {
    "colab": {
      "provenance": [],
      "include_colab_link": true
    },
    "kernelspec": {
      "name": "python3",
      "display_name": "Python 3"
    },
    "language_info": {
      "name": "python"
    }
  },
  "cells": [
    {
      "cell_type": "markdown",
      "metadata": {
        "id": "view-in-github",
        "colab_type": "text"
      },
      "source": [
        "<a href=\"https://colab.research.google.com/github/rshaikh95/datasci_1_loading/blob/main/Week1RahilShaikhHW.ipynb\" target=\"_parent\"><img src=\"https://colab.research.google.com/assets/colab-badge.svg\" alt=\"Open In Colab\"/></a>"
      ]
    },
    {
      "cell_type": "markdown",
      "source": [
        "# Healthcare Data Cleaning"
      ],
      "metadata": {
        "id": "V7qGRTdOUPP7"
      }
    },
    {
      "cell_type": "markdown",
      "source": [
        "### Load Data\n"
      ],
      "metadata": {
        "id": "r7R6oTzmWGej"
      }
    },
    {
      "cell_type": "code",
      "source": [
        "import pandas as pd\n",
        "\n",
        "df = pd.read_csv('https://raw.githubusercontent.com/hantswilliams/HHA_507_2023/main/WK2/data/healthcare_data_cleaning.csv')\n",
        "df\n"
      ],
      "metadata": {
        "id": "Iwq_rNSPVT65"
      },
      "execution_count": null,
      "outputs": []
    },
    {
      "cell_type": "markdown",
      "source": [
        "### Data Interpretation\n",
        "#### This is a dataset regarding patient demographics, vitals and medical records.\n",
        "#### There are a large number of rows and small number of columns. The hospital has a large number of patients which are the rows and the columns display specific info about said patient"
      ],
      "metadata": {
        "id": "7779LSgwWQps"
      }
    },
    {
      "cell_type": "code",
      "source": [
        "# Check the size and shape of the DataFrame\n",
        "print(\"Number of rows:\", df.shape[0])\n",
        "print(\"Number of columns:\", df.shape[1])\n"
      ],
      "metadata": {
        "id": "s6k2FqaTWPp-"
      },
      "execution_count": null,
      "outputs": []
    },
    {
      "cell_type": "markdown",
      "source": [
        "### Data Cleaning"
      ],
      "metadata": {
        "id": "kxMqDgf8qhrp"
      }
    },
    {
      "cell_type": "code",
      "source": [],
      "metadata": {
        "colab": {
          "base_uri": "https://localhost:8080/"
        },
        "id": "4iX5ewxbqlVz",
        "outputId": "8a581cb0-04b2-4b94-841a-8c1932232129"
      },
      "execution_count": 52,
      "outputs": [
        {
          "output_type": "stream",
          "name": "stdout",
          "text": [
            "   badcolumn1  anothercolumn2  finalcolumn3\n",
            "0           1               4             7\n",
            "1           2               5             8\n",
            "2           3               6             9\n"
          ]
        }
      ]
    },
    {
      "cell_type": "markdown",
      "source": [
        "### Previewing Dataset to remove any duplicate row or columns"
      ],
      "metadata": {
        "id": "no7hBoUCfaBD"
      }
    },
    {
      "cell_type": "code",
      "source": [
        "paymentdue = df[['Patient Age', 'City of Residence']]\n",
        "paymentdue.head(5)\n"
      ],
      "metadata": {
        "id": "aHssOunvfZsd"
      },
      "execution_count": null,
      "outputs": []
    },
    {
      "cell_type": "code",
      "source": [
        "df['City of Residence'].value_counts()\n"
      ],
      "metadata": {
        "id": "v84tmPK9hAkl"
      },
      "execution_count": null,
      "outputs": []
    },
    {
      "cell_type": "code",
      "source": [
        "Duplicate1 = df[df['City of Residence'] == 'Lake Michael']\n",
        "Duplicate1.groupby(['City of Residence']).sum()\n"
      ],
      "metadata": {
        "id": "Ap1ztNl5hzNV"
      },
      "execution_count": null,
      "outputs": []
    },
    {
      "cell_type": "markdown",
      "source": [
        "# Chicago Public Health Data\n",
        "### Births and Birth Rate of Chicago Counties from 1999-2009\n"
      ],
      "metadata": {
        "id": "TLe-a1oQrSHk"
      }
    },
    {
      "cell_type": "code",
      "source": [
        "import pandas as pd\n",
        "import json\n"
      ],
      "metadata": {
        "id": "3pMDS_2t29Ga"
      },
      "execution_count": null,
      "outputs": []
    },
    {
      "cell_type": "code",
      "execution_count": null,
      "metadata": {
        "id": "6AqAruhWwdBB"
      },
      "outputs": [],
      "source": [
        "\n",
        "data1 = pd.read_csv('/content/Datasets/birthsbirthrateschicago1999-2009.csv', nrows=10)\n",
        "print (data1)\n"
      ]
    },
    {
      "cell_type": "markdown",
      "source": [
        "### Births to Mothers Aged 15-19 of Chicago Counties from 1999-2009\n"
      ],
      "metadata": {
        "id": "Ng5TiVXcu25g"
      }
    },
    {
      "cell_type": "code",
      "source": [
        "\n",
        "data2 = pd.read_csv('/content/Datasets/birthstomothersaged-15-19chicago1999-2009.csv',nrows=10)\n",
        "print(data2)"
      ],
      "metadata": {
        "id": "vItagW8Aqpzb"
      },
      "execution_count": null,
      "outputs": []
    },
    {
      "cell_type": "markdown",
      "source": [
        "### General Fertility Rates of Chicago Counties from 1999-2009\n"
      ],
      "metadata": {
        "id": "D103nrMzvK7d"
      }
    },
    {
      "cell_type": "code",
      "source": [
        "data3 = pd.read_csv('/content/Datasets/generalfertilityrateschicago1999-2009.csv',nrows=10)\n",
        "print(data3)"
      ],
      "metadata": {
        "id": "aPVV4XndvcZn"
      },
      "execution_count": null,
      "outputs": []
    },
    {
      "cell_type": "markdown",
      "source": [
        "### Life Expectancy Rates of Chicago Counties from 1999-2009"
      ],
      "metadata": {
        "id": "yrMxzQYrxAoV"
      }
    },
    {
      "cell_type": "code",
      "source": [
        "data4 = pd.read_excel('/content/Datasets/life-expectancy.xlsx',nrows=10)\n",
        "print(data4)"
      ],
      "metadata": {
        "id": "fK5CqJfOx7th"
      },
      "execution_count": null,
      "outputs": []
    },
    {
      "cell_type": "markdown",
      "source": [
        "### Low Birth Weights of Chicago Counties from 1999-2000"
      ],
      "metadata": {
        "id": "PvsA_6NSxLhH"
      }
    },
    {
      "cell_type": "code",
      "source": [
        "data5 = pd.read_excel('/content/Datasets/low-birth-weight-chicago1999-2009.xlsx',nrows=10)\n",
        "print(data5)"
      ],
      "metadata": {
        "id": "14DYPQu6yWVd"
      },
      "execution_count": null,
      "outputs": []
    },
    {
      "cell_type": "markdown",
      "source": [
        "### Prenatal Care Rates of Chicago Counties from 1999-2009\n",
        "\n"
      ],
      "metadata": {
        "id": "pzavXDTTxSQy"
      }
    },
    {
      "cell_type": "code",
      "source": [
        "data6 = pd.read_excel('/content/Datasets/prenatal-care-in-chicago1999-2009.xlsx',nrows=10)\n",
        "print(data6)"
      ],
      "metadata": {
        "id": "ZLbS0itfyrZT"
      },
      "execution_count": null,
      "outputs": []
    },
    {
      "cell_type": "markdown",
      "source": [
        "### Countries and Health Demographic Trends\n",
        "### Displays health demographics from countries including Covid rates"
      ],
      "metadata": {
        "id": "cFZEDTRnxYdi"
      }
    },
    {
      "cell_type": "code",
      "source": [
        "data7 = pd.read_json('/content/Datasets/top_countries_latest_metric_summary.json')\n",
        "print(data7)"
      ],
      "metadata": {
        "id": "pLdSO4lTy8Kw"
      },
      "execution_count": null,
      "outputs": []
    },
    {
      "cell_type": "markdown",
      "source": [
        "### Countries Time Series\n",
        "### Displays Health Demographics from countries in a time series"
      ],
      "metadata": {
        "id": "7J5fgrwlxhwO"
      }
    },
    {
      "cell_type": "code",
      "source": [
        "data8 = pd.read_json('/content/Datasets/top_countries_time_series.json')\n",
        "print(data8)"
      ],
      "metadata": {
        "id": "PbBgXde1GqTy"
      },
      "execution_count": null,
      "outputs": []
    },
    {
      "cell_type": "markdown",
      "source": [
        "### Covid Total Confirmed Cases in India\n",
        "### Displays all confirmed covid cases in India"
      ],
      "metadata": {
        "id": "BadVW4SAxob7"
      }
    },
    {
      "cell_type": "code",
      "source": [
        "data9 = pd.read_json('/content/Datasets/total_confirmed_cases.json')\n",
        "print(data9)"
      ],
      "metadata": {
        "id": "54h3dQ4ZHgnm"
      },
      "execution_count": null,
      "outputs": []
    },
    {
      "cell_type": "code",
      "source": [],
      "metadata": {
        "id": "R4slwA8MJTnw"
      },
      "execution_count": null,
      "outputs": []
    }
  ]
}