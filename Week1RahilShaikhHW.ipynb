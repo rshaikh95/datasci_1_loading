{
  "nbformat": 4,
  "nbformat_minor": 0,
  "metadata": {
    "colab": {
      "provenance": [],
      "include_colab_link": true
    },
    "kernelspec": {
      "name": "python3",
      "display_name": "Python 3"
    },
    "language_info": {
      "name": "python"
    }
  },
  "cells": [
    {
      "cell_type": "markdown",
      "metadata": {
        "id": "view-in-github",
        "colab_type": "text"
      },
      "source": [
        "<a href=\"https://colab.research.google.com/github/rshaikh95/datasci_1_loading/blob/main/Week1RahilShaikhHW.ipynb\" target=\"_parent\"><img src=\"https://colab.research.google.com/assets/colab-badge.svg\" alt=\"Open In Colab\"/></a>"
      ]
    },
    {
      "cell_type": "markdown",
      "source": [
        "# Healthcare Data Cleaning"
      ],
      "metadata": {
        "id": "V7qGRTdOUPP7"
      }
    },
    {
      "cell_type": "code",
      "source": [
        "import pandas as pd\n",
        "\n",
        "data = pd.read_csv('/content/healthcare_data_cleaning.csv')\n",
        "print (data)\n",
        "\n",
        "print(\"Number of Rows\", data.shape[0])\n",
        "print(\"Number of Columns\", data.shape[1])\n",
        "\n",
        "print(\"Using Size: \", data.size)\n",
        "print(\"Using Shape: \", data.shape)\n",
        "\n",
        "data.head(5)\n",
        "\n"
      ],
      "metadata": {
        "id": "Iwq_rNSPVT65",
        "outputId": "52aac11d-5966-49b5-84fd-ee4d29b531a0",
        "colab": {
          "base_uri": "https://localhost:8080/",
          "height": 1000
        }
      },
      "execution_count": 9,
      "outputs": [
        {
          "output_type": "stream",
          "name": "stdout",
          "text": [
            "       Patient Age  Gender  City of Residence State of Residence  \\\n",
            "0               45   Other         West Brian           Kentucky   \n",
            "1               25  Female   East Jocelynfurt           Colorado   \n",
            "2               51   Other  South Lindseyland               Ohio   \n",
            "3               18  Female         Taylorfort       Pennsylvania   \n",
            "4               48  Female          Birdmouth            Montana   \n",
            "...            ...     ...                ...                ...   \n",
            "104995          74   Other       West Anthony           Oklahoma   \n",
            "104996          37    Male          Mckeetown               Utah   \n",
            "104997          51  Female   Lake Lisachester           Nebraska   \n",
            "104998     missing  Female       Heidiborough            missing   \n",
            "104999          45  Female      South Jeffrey      Massachusetts   \n",
            "\n",
            "       Has Insurance Visited Last Month Payment Method Preferred Doctor  \\\n",
            "0                Yes                Yes      Insurance     Dr. Williams   \n",
            "1                 No                Yes           Card      Dr. Johnson   \n",
            "2                Yes                 No           Cash     Dr. Williams   \n",
            "3                Yes            missing           Cash     Dr. Williams   \n",
            "4                 No                 No      Insurance        Dr. Brown   \n",
            "...              ...                ...            ...              ...   \n",
            "104995           Yes                 No           Card     Dr. Williams   \n",
            "104996           Yes                 No           Cash        Dr. Jones   \n",
            "104997           Yes                Yes      Insurance     Dr. Williams   \n",
            "104998           Yes                 No           Cash        Dr. Smith   \n",
            "104999            No                Yes           Cash        Dr. Brown   \n",
            "\n",
            "       Disease Diagnosed Medication Prescribed Type of Appointment  \\\n",
            "0                    Flu                 Med_E             General   \n",
            "1                    Flu                 Med_B          Specialist   \n",
            "2               Covid-19                 Med_D             General   \n",
            "3                    Flu                 Med_A             General   \n",
            "4                   None                 Med_C          Specialist   \n",
            "...                  ...                   ...                 ...   \n",
            "104995          Covid-19                 Med_E          Specialist   \n",
            "104996          Covid-19                 Med_C             General   \n",
            "104997           Allergy                 Med_D           Follow-Up   \n",
            "104998          Covid-19                 Med_A           Follow-Up   \n",
            "104999           Allergy                 Med_D             General   \n",
            "\n",
            "       Average Heart Rate Average BP Height (in cm) Weight (in kg)  \\\n",
            "0                      66        111            183             70   \n",
            "1                      59    missing            174             58   \n",
            "2                      79        119            161             56   \n",
            "3                      99        115            171             52   \n",
            "4                      93         89            186             87   \n",
            "...                   ...        ...            ...            ...   \n",
            "104995                 65        112            169             61   \n",
            "104996            missing        111            165             67   \n",
            "104997                 89        118            179             71   \n",
            "104998                 74        123            167             75   \n",
            "104999                 77        140            167             62   \n",
            "\n",
            "           Payment Due ($) Last Visit (days ago) Visit Duration (mins)  \\\n",
            "0        65.45721578126224                   193                    92   \n",
            "1       430.68365678679174                   195               missing   \n",
            "2        315.0709305262176               missing                    37   \n",
            "3        320.2998987723972                   175                   108   \n",
            "4        264.2147372473319                   188                   113   \n",
            "...                    ...                   ...                   ...   \n",
            "104995  309.16444606680665                   183                    10   \n",
            "104996             missing                   191                    47   \n",
            "104997   320.8304180033907                   172                    39   \n",
            "104998   5.341231420036174                   180                    79   \n",
            "104999  454.94983945860804                   167                    81   \n",
            "\n",
            "       Number of Tests Prescription Cost ($)  \n",
            "0                    5     15.71751735532889  \n",
            "1                    4     80.78647284463952  \n",
            "2                    2      64.3921393009105  \n",
            "3                    2     8.872859215315316  \n",
            "4                    3     77.48311304645532  \n",
            "...                ...                   ...  \n",
            "104995               3     63.20478776719894  \n",
            "104996               2    113.86764025370326  \n",
            "104997               3    35.622420232475356  \n",
            "104998         missing     124.4083409893742  \n",
            "104999         missing     87.91060149353706  \n",
            "\n",
            "[105000 rows x 20 columns]\n",
            "Number of Rows 105000\n",
            "Number of Columns 20\n",
            "Using Size:  2100000\n",
            "Using Shape:  (105000, 20)\n"
          ]
        },
        {
          "output_type": "execute_result",
          "data": {
            "text/plain": [
              "  Patient Age  Gender  City of Residence State of Residence Has Insurance  \\\n",
              "0          45   Other         West Brian           Kentucky           Yes   \n",
              "1          25  Female   East Jocelynfurt           Colorado            No   \n",
              "2          51   Other  South Lindseyland               Ohio           Yes   \n",
              "3          18  Female         Taylorfort       Pennsylvania           Yes   \n",
              "4          48  Female          Birdmouth            Montana            No   \n",
              "\n",
              "  Visited Last Month Payment Method Preferred Doctor Disease Diagnosed  \\\n",
              "0                Yes      Insurance     Dr. Williams               Flu   \n",
              "1                Yes           Card      Dr. Johnson               Flu   \n",
              "2                 No           Cash     Dr. Williams          Covid-19   \n",
              "3            missing           Cash     Dr. Williams               Flu   \n",
              "4                 No      Insurance        Dr. Brown              None   \n",
              "\n",
              "  Medication Prescribed Type of Appointment Average Heart Rate Average BP  \\\n",
              "0                 Med_E             General                 66        111   \n",
              "1                 Med_B          Specialist                 59    missing   \n",
              "2                 Med_D             General                 79        119   \n",
              "3                 Med_A             General                 99        115   \n",
              "4                 Med_C          Specialist                 93         89   \n",
              "\n",
              "  Height (in cm) Weight (in kg)     Payment Due ($) Last Visit (days ago)  \\\n",
              "0            183             70   65.45721578126224                   193   \n",
              "1            174             58  430.68365678679174                   195   \n",
              "2            161             56   315.0709305262176               missing   \n",
              "3            171             52   320.2998987723972                   175   \n",
              "4            186             87   264.2147372473319                   188   \n",
              "\n",
              "  Visit Duration (mins) Number of Tests Prescription Cost ($)  \n",
              "0                    92               5     15.71751735532889  \n",
              "1               missing               4     80.78647284463952  \n",
              "2                    37               2      64.3921393009105  \n",
              "3                   108               2     8.872859215315316  \n",
              "4                   113               3     77.48311304645532  "
            ],
            "text/html": [
              "\n",
              "  <div id=\"df-526678c3-998a-46f3-95d7-0af69ce36e9c\" class=\"colab-df-container\">\n",
              "    <div>\n",
              "<style scoped>\n",
              "    .dataframe tbody tr th:only-of-type {\n",
              "        vertical-align: middle;\n",
              "    }\n",
              "\n",
              "    .dataframe tbody tr th {\n",
              "        vertical-align: top;\n",
              "    }\n",
              "\n",
              "    .dataframe thead th {\n",
              "        text-align: right;\n",
              "    }\n",
              "</style>\n",
              "<table border=\"1\" class=\"dataframe\">\n",
              "  <thead>\n",
              "    <tr style=\"text-align: right;\">\n",
              "      <th></th>\n",
              "      <th>Patient Age</th>\n",
              "      <th>Gender</th>\n",
              "      <th>City of Residence</th>\n",
              "      <th>State of Residence</th>\n",
              "      <th>Has Insurance</th>\n",
              "      <th>Visited Last Month</th>\n",
              "      <th>Payment Method</th>\n",
              "      <th>Preferred Doctor</th>\n",
              "      <th>Disease Diagnosed</th>\n",
              "      <th>Medication Prescribed</th>\n",
              "      <th>Type of Appointment</th>\n",
              "      <th>Average Heart Rate</th>\n",
              "      <th>Average BP</th>\n",
              "      <th>Height (in cm)</th>\n",
              "      <th>Weight (in kg)</th>\n",
              "      <th>Payment Due ($)</th>\n",
              "      <th>Last Visit (days ago)</th>\n",
              "      <th>Visit Duration (mins)</th>\n",
              "      <th>Number of Tests</th>\n",
              "      <th>Prescription Cost ($)</th>\n",
              "    </tr>\n",
              "  </thead>\n",
              "  <tbody>\n",
              "    <tr>\n",
              "      <th>0</th>\n",
              "      <td>45</td>\n",
              "      <td>Other</td>\n",
              "      <td>West Brian</td>\n",
              "      <td>Kentucky</td>\n",
              "      <td>Yes</td>\n",
              "      <td>Yes</td>\n",
              "      <td>Insurance</td>\n",
              "      <td>Dr. Williams</td>\n",
              "      <td>Flu</td>\n",
              "      <td>Med_E</td>\n",
              "      <td>General</td>\n",
              "      <td>66</td>\n",
              "      <td>111</td>\n",
              "      <td>183</td>\n",
              "      <td>70</td>\n",
              "      <td>65.45721578126224</td>\n",
              "      <td>193</td>\n",
              "      <td>92</td>\n",
              "      <td>5</td>\n",
              "      <td>15.71751735532889</td>\n",
              "    </tr>\n",
              "    <tr>\n",
              "      <th>1</th>\n",
              "      <td>25</td>\n",
              "      <td>Female</td>\n",
              "      <td>East Jocelynfurt</td>\n",
              "      <td>Colorado</td>\n",
              "      <td>No</td>\n",
              "      <td>Yes</td>\n",
              "      <td>Card</td>\n",
              "      <td>Dr. Johnson</td>\n",
              "      <td>Flu</td>\n",
              "      <td>Med_B</td>\n",
              "      <td>Specialist</td>\n",
              "      <td>59</td>\n",
              "      <td>missing</td>\n",
              "      <td>174</td>\n",
              "      <td>58</td>\n",
              "      <td>430.68365678679174</td>\n",
              "      <td>195</td>\n",
              "      <td>missing</td>\n",
              "      <td>4</td>\n",
              "      <td>80.78647284463952</td>\n",
              "    </tr>\n",
              "    <tr>\n",
              "      <th>2</th>\n",
              "      <td>51</td>\n",
              "      <td>Other</td>\n",
              "      <td>South Lindseyland</td>\n",
              "      <td>Ohio</td>\n",
              "      <td>Yes</td>\n",
              "      <td>No</td>\n",
              "      <td>Cash</td>\n",
              "      <td>Dr. Williams</td>\n",
              "      <td>Covid-19</td>\n",
              "      <td>Med_D</td>\n",
              "      <td>General</td>\n",
              "      <td>79</td>\n",
              "      <td>119</td>\n",
              "      <td>161</td>\n",
              "      <td>56</td>\n",
              "      <td>315.0709305262176</td>\n",
              "      <td>missing</td>\n",
              "      <td>37</td>\n",
              "      <td>2</td>\n",
              "      <td>64.3921393009105</td>\n",
              "    </tr>\n",
              "    <tr>\n",
              "      <th>3</th>\n",
              "      <td>18</td>\n",
              "      <td>Female</td>\n",
              "      <td>Taylorfort</td>\n",
              "      <td>Pennsylvania</td>\n",
              "      <td>Yes</td>\n",
              "      <td>missing</td>\n",
              "      <td>Cash</td>\n",
              "      <td>Dr. Williams</td>\n",
              "      <td>Flu</td>\n",
              "      <td>Med_A</td>\n",
              "      <td>General</td>\n",
              "      <td>99</td>\n",
              "      <td>115</td>\n",
              "      <td>171</td>\n",
              "      <td>52</td>\n",
              "      <td>320.2998987723972</td>\n",
              "      <td>175</td>\n",
              "      <td>108</td>\n",
              "      <td>2</td>\n",
              "      <td>8.872859215315316</td>\n",
              "    </tr>\n",
              "    <tr>\n",
              "      <th>4</th>\n",
              "      <td>48</td>\n",
              "      <td>Female</td>\n",
              "      <td>Birdmouth</td>\n",
              "      <td>Montana</td>\n",
              "      <td>No</td>\n",
              "      <td>No</td>\n",
              "      <td>Insurance</td>\n",
              "      <td>Dr. Brown</td>\n",
              "      <td>None</td>\n",
              "      <td>Med_C</td>\n",
              "      <td>Specialist</td>\n",
              "      <td>93</td>\n",
              "      <td>89</td>\n",
              "      <td>186</td>\n",
              "      <td>87</td>\n",
              "      <td>264.2147372473319</td>\n",
              "      <td>188</td>\n",
              "      <td>113</td>\n",
              "      <td>3</td>\n",
              "      <td>77.48311304645532</td>\n",
              "    </tr>\n",
              "  </tbody>\n",
              "</table>\n",
              "</div>\n",
              "    <div class=\"colab-df-buttons\">\n",
              "\n",
              "  <div class=\"colab-df-container\">\n",
              "    <button class=\"colab-df-convert\" onclick=\"convertToInteractive('df-526678c3-998a-46f3-95d7-0af69ce36e9c')\"\n",
              "            title=\"Convert this dataframe to an interactive table.\"\n",
              "            style=\"display:none;\">\n",
              "\n",
              "  <svg xmlns=\"http://www.w3.org/2000/svg\" height=\"24px\" viewBox=\"0 -960 960 960\">\n",
              "    <path d=\"M120-120v-720h720v720H120Zm60-500h600v-160H180v160Zm220 220h160v-160H400v160Zm0 220h160v-160H400v160ZM180-400h160v-160H180v160Zm440 0h160v-160H620v160ZM180-180h160v-160H180v160Zm440 0h160v-160H620v160Z\"/>\n",
              "  </svg>\n",
              "    </button>\n",
              "\n",
              "  <style>\n",
              "    .colab-df-container {\n",
              "      display:flex;\n",
              "      gap: 12px;\n",
              "    }\n",
              "\n",
              "    .colab-df-convert {\n",
              "      background-color: #E8F0FE;\n",
              "      border: none;\n",
              "      border-radius: 50%;\n",
              "      cursor: pointer;\n",
              "      display: none;\n",
              "      fill: #1967D2;\n",
              "      height: 32px;\n",
              "      padding: 0 0 0 0;\n",
              "      width: 32px;\n",
              "    }\n",
              "\n",
              "    .colab-df-convert:hover {\n",
              "      background-color: #E2EBFA;\n",
              "      box-shadow: 0px 1px 2px rgba(60, 64, 67, 0.3), 0px 1px 3px 1px rgba(60, 64, 67, 0.15);\n",
              "      fill: #174EA6;\n",
              "    }\n",
              "\n",
              "    .colab-df-buttons div {\n",
              "      margin-bottom: 4px;\n",
              "    }\n",
              "\n",
              "    [theme=dark] .colab-df-convert {\n",
              "      background-color: #3B4455;\n",
              "      fill: #D2E3FC;\n",
              "    }\n",
              "\n",
              "    [theme=dark] .colab-df-convert:hover {\n",
              "      background-color: #434B5C;\n",
              "      box-shadow: 0px 1px 3px 1px rgba(0, 0, 0, 0.15);\n",
              "      filter: drop-shadow(0px 1px 2px rgba(0, 0, 0, 0.3));\n",
              "      fill: #FFFFFF;\n",
              "    }\n",
              "  </style>\n",
              "\n",
              "    <script>\n",
              "      const buttonEl =\n",
              "        document.querySelector('#df-526678c3-998a-46f3-95d7-0af69ce36e9c button.colab-df-convert');\n",
              "      buttonEl.style.display =\n",
              "        google.colab.kernel.accessAllowed ? 'block' : 'none';\n",
              "\n",
              "      async function convertToInteractive(key) {\n",
              "        const element = document.querySelector('#df-526678c3-998a-46f3-95d7-0af69ce36e9c');\n",
              "        const dataTable =\n",
              "          await google.colab.kernel.invokeFunction('convertToInteractive',\n",
              "                                                    [key], {});\n",
              "        if (!dataTable) return;\n",
              "\n",
              "        const docLinkHtml = 'Like what you see? Visit the ' +\n",
              "          '<a target=\"_blank\" href=https://colab.research.google.com/notebooks/data_table.ipynb>data table notebook</a>'\n",
              "          + ' to learn more about interactive tables.';\n",
              "        element.innerHTML = '';\n",
              "        dataTable['output_type'] = 'display_data';\n",
              "        await google.colab.output.renderOutput(dataTable, element);\n",
              "        const docLink = document.createElement('div');\n",
              "        docLink.innerHTML = docLinkHtml;\n",
              "        element.appendChild(docLink);\n",
              "      }\n",
              "    </script>\n",
              "  </div>\n",
              "\n",
              "\n",
              "<div id=\"df-e460cd93-40ef-4bd7-b8fa-930de03d25f6\">\n",
              "  <button class=\"colab-df-quickchart\" onclick=\"quickchart('df-e460cd93-40ef-4bd7-b8fa-930de03d25f6')\"\n",
              "            title=\"Suggest charts.\"\n",
              "            style=\"display:none;\">\n",
              "\n",
              "<svg xmlns=\"http://www.w3.org/2000/svg\" height=\"24px\"viewBox=\"0 0 24 24\"\n",
              "     width=\"24px\">\n",
              "    <g>\n",
              "        <path d=\"M19 3H5c-1.1 0-2 .9-2 2v14c0 1.1.9 2 2 2h14c1.1 0 2-.9 2-2V5c0-1.1-.9-2-2-2zM9 17H7v-7h2v7zm4 0h-2V7h2v10zm4 0h-2v-4h2v4z\"/>\n",
              "    </g>\n",
              "</svg>\n",
              "  </button>\n",
              "\n",
              "<style>\n",
              "  .colab-df-quickchart {\n",
              "      --bg-color: #E8F0FE;\n",
              "      --fill-color: #1967D2;\n",
              "      --hover-bg-color: #E2EBFA;\n",
              "      --hover-fill-color: #174EA6;\n",
              "      --disabled-fill-color: #AAA;\n",
              "      --disabled-bg-color: #DDD;\n",
              "  }\n",
              "\n",
              "  [theme=dark] .colab-df-quickchart {\n",
              "      --bg-color: #3B4455;\n",
              "      --fill-color: #D2E3FC;\n",
              "      --hover-bg-color: #434B5C;\n",
              "      --hover-fill-color: #FFFFFF;\n",
              "      --disabled-bg-color: #3B4455;\n",
              "      --disabled-fill-color: #666;\n",
              "  }\n",
              "\n",
              "  .colab-df-quickchart {\n",
              "    background-color: var(--bg-color);\n",
              "    border: none;\n",
              "    border-radius: 50%;\n",
              "    cursor: pointer;\n",
              "    display: none;\n",
              "    fill: var(--fill-color);\n",
              "    height: 32px;\n",
              "    padding: 0;\n",
              "    width: 32px;\n",
              "  }\n",
              "\n",
              "  .colab-df-quickchart:hover {\n",
              "    background-color: var(--hover-bg-color);\n",
              "    box-shadow: 0 1px 2px rgba(60, 64, 67, 0.3), 0 1px 3px 1px rgba(60, 64, 67, 0.15);\n",
              "    fill: var(--button-hover-fill-color);\n",
              "  }\n",
              "\n",
              "  .colab-df-quickchart-complete:disabled,\n",
              "  .colab-df-quickchart-complete:disabled:hover {\n",
              "    background-color: var(--disabled-bg-color);\n",
              "    fill: var(--disabled-fill-color);\n",
              "    box-shadow: none;\n",
              "  }\n",
              "\n",
              "  .colab-df-spinner {\n",
              "    border: 2px solid var(--fill-color);\n",
              "    border-color: transparent;\n",
              "    border-bottom-color: var(--fill-color);\n",
              "    animation:\n",
              "      spin 1s steps(1) infinite;\n",
              "  }\n",
              "\n",
              "  @keyframes spin {\n",
              "    0% {\n",
              "      border-color: transparent;\n",
              "      border-bottom-color: var(--fill-color);\n",
              "      border-left-color: var(--fill-color);\n",
              "    }\n",
              "    20% {\n",
              "      border-color: transparent;\n",
              "      border-left-color: var(--fill-color);\n",
              "      border-top-color: var(--fill-color);\n",
              "    }\n",
              "    30% {\n",
              "      border-color: transparent;\n",
              "      border-left-color: var(--fill-color);\n",
              "      border-top-color: var(--fill-color);\n",
              "      border-right-color: var(--fill-color);\n",
              "    }\n",
              "    40% {\n",
              "      border-color: transparent;\n",
              "      border-right-color: var(--fill-color);\n",
              "      border-top-color: var(--fill-color);\n",
              "    }\n",
              "    60% {\n",
              "      border-color: transparent;\n",
              "      border-right-color: var(--fill-color);\n",
              "    }\n",
              "    80% {\n",
              "      border-color: transparent;\n",
              "      border-right-color: var(--fill-color);\n",
              "      border-bottom-color: var(--fill-color);\n",
              "    }\n",
              "    90% {\n",
              "      border-color: transparent;\n",
              "      border-bottom-color: var(--fill-color);\n",
              "    }\n",
              "  }\n",
              "</style>\n",
              "\n",
              "  <script>\n",
              "    async function quickchart(key) {\n",
              "      const quickchartButtonEl =\n",
              "        document.querySelector('#' + key + ' button');\n",
              "      quickchartButtonEl.disabled = true;  // To prevent multiple clicks.\n",
              "      quickchartButtonEl.classList.add('colab-df-spinner');\n",
              "      try {\n",
              "        const charts = await google.colab.kernel.invokeFunction(\n",
              "            'suggestCharts', [key], {});\n",
              "      } catch (error) {\n",
              "        console.error('Error during call to suggestCharts:', error);\n",
              "      }\n",
              "      quickchartButtonEl.classList.remove('colab-df-spinner');\n",
              "      quickchartButtonEl.classList.add('colab-df-quickchart-complete');\n",
              "    }\n",
              "    (() => {\n",
              "      let quickchartButtonEl =\n",
              "        document.querySelector('#df-e460cd93-40ef-4bd7-b8fa-930de03d25f6 button');\n",
              "      quickchartButtonEl.style.display =\n",
              "        google.colab.kernel.accessAllowed ? 'block' : 'none';\n",
              "    })();\n",
              "  </script>\n",
              "</div>\n",
              "    </div>\n",
              "  </div>\n"
            ]
          },
          "metadata": {},
          "execution_count": 9
        }
      ]
    },
    {
      "cell_type": "markdown",
      "source": [
        "# Chicago Public Health Data\n",
        "### Births and Birth Rate of Chicago Counties from 1999-2009\n"
      ],
      "metadata": {
        "id": "TLe-a1oQrSHk"
      }
    },
    {
      "cell_type": "code",
      "source": [
        "import pandas as pd\n",
        "import json\n"
      ],
      "metadata": {
        "id": "3pMDS_2t29Ga"
      },
      "execution_count": null,
      "outputs": []
    },
    {
      "cell_type": "code",
      "execution_count": null,
      "metadata": {
        "id": "6AqAruhWwdBB"
      },
      "outputs": [],
      "source": [
        "\n",
        "data1 = pd.read_csv('/content/Datasets/birthsbirthrateschicago1999-2009.csv', nrows=10)\n",
        "print (data1)\n"
      ]
    },
    {
      "cell_type": "markdown",
      "source": [
        "### Births to Mothers Aged 15-19 of Chicago Counties from 1999-2009\n"
      ],
      "metadata": {
        "id": "Ng5TiVXcu25g"
      }
    },
    {
      "cell_type": "code",
      "source": [
        "\n",
        "data2 = pd.read_csv('/content/Datasets/birthstomothersaged-15-19chicago1999-2009.csv',nrows=10)\n",
        "print(data2)"
      ],
      "metadata": {
        "id": "vItagW8Aqpzb"
      },
      "execution_count": null,
      "outputs": []
    },
    {
      "cell_type": "markdown",
      "source": [
        "### General Fertility Rates of Chicago Counties from 1999-2009\n"
      ],
      "metadata": {
        "id": "D103nrMzvK7d"
      }
    },
    {
      "cell_type": "code",
      "source": [
        "data3 = pd.read_csv('/content/Datasets/generalfertilityrateschicago1999-2009.csv',nrows=10)\n",
        "print(data3)"
      ],
      "metadata": {
        "id": "aPVV4XndvcZn"
      },
      "execution_count": null,
      "outputs": []
    },
    {
      "cell_type": "markdown",
      "source": [
        "### Life Expectancy Rates of Chicago Counties from 1999-2009"
      ],
      "metadata": {
        "id": "yrMxzQYrxAoV"
      }
    },
    {
      "cell_type": "code",
      "source": [
        "data4 = pd.read_excel('/content/Datasets/life-expectancy.xlsx',nrows=10)\n",
        "print(data4)"
      ],
      "metadata": {
        "id": "fK5CqJfOx7th"
      },
      "execution_count": null,
      "outputs": []
    },
    {
      "cell_type": "markdown",
      "source": [
        "### Low Birth Weights of Chicago Counties from 1999-2000"
      ],
      "metadata": {
        "id": "PvsA_6NSxLhH"
      }
    },
    {
      "cell_type": "code",
      "source": [
        "data5 = pd.read_excel('/content/Datasets/low-birth-weight-chicago1999-2009.xlsx',nrows=10)\n",
        "print(data5)"
      ],
      "metadata": {
        "id": "14DYPQu6yWVd"
      },
      "execution_count": null,
      "outputs": []
    },
    {
      "cell_type": "markdown",
      "source": [
        "### Prenatal Care Rates of Chicago Counties from 1999-2009\n",
        "\n"
      ],
      "metadata": {
        "id": "pzavXDTTxSQy"
      }
    },
    {
      "cell_type": "code",
      "source": [
        "data6 = pd.read_excel('/content/Datasets/prenatal-care-in-chicago1999-2009.xlsx',nrows=10)\n",
        "print(data6)"
      ],
      "metadata": {
        "id": "ZLbS0itfyrZT"
      },
      "execution_count": null,
      "outputs": []
    },
    {
      "cell_type": "markdown",
      "source": [
        "### Countries and Health Demographic Trends\n",
        "### Displays health demographics from countries including Covid rates"
      ],
      "metadata": {
        "id": "cFZEDTRnxYdi"
      }
    },
    {
      "cell_type": "code",
      "source": [
        "data7 = pd.read_json('/content/Datasets/top_countries_latest_metric_summary.json')\n",
        "print(data7)"
      ],
      "metadata": {
        "id": "pLdSO4lTy8Kw"
      },
      "execution_count": null,
      "outputs": []
    },
    {
      "cell_type": "markdown",
      "source": [
        "### Countries Time Series\n",
        "### Displays Health Demographics from countries in a time series"
      ],
      "metadata": {
        "id": "7J5fgrwlxhwO"
      }
    },
    {
      "cell_type": "code",
      "source": [
        "data8 = pd.read_json('/content/Datasets/top_countries_time_series.json')\n",
        "print(data8)"
      ],
      "metadata": {
        "id": "PbBgXde1GqTy"
      },
      "execution_count": null,
      "outputs": []
    },
    {
      "cell_type": "markdown",
      "source": [
        "### Covid Total Confirmed Cases in India\n",
        "### Displays all confirmed covid cases in India"
      ],
      "metadata": {
        "id": "BadVW4SAxob7"
      }
    },
    {
      "cell_type": "code",
      "source": [
        "data9 = pd.read_json('/content/Datasets/total_confirmed_cases.json')\n",
        "print(data9)"
      ],
      "metadata": {
        "id": "54h3dQ4ZHgnm"
      },
      "execution_count": null,
      "outputs": []
    },
    {
      "cell_type": "code",
      "source": [],
      "metadata": {
        "id": "R4slwA8MJTnw"
      },
      "execution_count": null,
      "outputs": []
    }
  ]
}